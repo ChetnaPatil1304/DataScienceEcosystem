{
  "metadata": {
    "kernelspec": {
      "name": ""
    },
    "language_info": {
      "name": ""
    }
  },
  "nbformat_minor": 4,
  "nbformat": 4,
  "cells": [
    {
      "cell_type": "markdown",
      "source": "<h1>Data science tools and ecosystem</h1>",
      "metadata": {}
    },
    {
      "cell_type": "code",
      "source": "",
      "metadata": {
        "trusted": true
      },
      "outputs": [],
      "execution_count": null
    },
    {
      "cell_type": "code",
      "source": "In this notebook, data science tools and ecosystems are summarised",
      "metadata": {
        "trusted": true
      },
      "outputs": [],
      "execution_count": null
    },
    {
      "cell_type": "markdown",
      "source": "**Objectives**",
      "metadata": {}
    },
    {
      "cell_type": "markdown",
      "source": "* Listed popular languages for data science\n* Common libraries\n* Arithmatics expressions\n* Converted minutes into hours",
      "metadata": {}
    },
    {
      "cell_type": "markdown",
      "source": "Some of the popular languages data Scientists use are:\n1. Python\n2. R\n3. SQL",
      "metadata": {}
    },
    {
      "cell_type": "markdown",
      "source": "Some of the common libraries used by data scientists include:\n1. Pandas\n2. Matplotlib\n3. NumPy\n4. Keras",
      "metadata": {}
    },
    {
      "cell_type": "markdown",
      "source": "|data sciene tools|\n|-----------------|\n|Weka|\n|Pandas|\n|Scrapy|\n|Hadoop|",
      "metadata": {}
    },
    {
      "cell_type": "markdown",
      "source": "<h3>heading</h3>",
      "metadata": {}
    },
    {
      "cell_type": "markdown",
      "source": "Below are few examples of evaluating arithmatic expressions in Python",
      "metadata": {}
    },
    {
      "cell_type": "code",
      "source": "#This is a simple arithmatic expression to multiply then add integers\n(3*4)+5",
      "metadata": {
        "trusted": true
      },
      "outputs": [],
      "execution_count": null
    },
    {
      "cell_type": "code",
      "source": "#This will convert 200 minutes into hours by dividing by 60\n(200/60)",
      "metadata": {
        "trusted": true
      },
      "outputs": [],
      "execution_count": null
    },
    {
      "cell_type": "markdown",
      "source": "<h2>Author</h2>\nChetna Patil",
      "metadata": {}
    },
    {
      "cell_type": "code",
      "source": "",
      "metadata": {
        "trusted": true
      },
      "outputs": [],
      "execution_count": null
    }
  ]
}